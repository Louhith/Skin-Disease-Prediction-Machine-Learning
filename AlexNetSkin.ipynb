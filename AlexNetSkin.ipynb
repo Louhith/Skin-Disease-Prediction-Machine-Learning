{
  "cells": [
    {
      "cell_type": "code",
      "execution_count": 14,
      "metadata": {
        "id": "BJ5t_wOcEvJt"
      },
      "outputs": [],
      "source": [
        "import seaborn as sns\n",
        "import pandas as pd\n",
        "import matplotlib.pyplot as plt\n",
        "from imblearn.over_sampling import RandomOverSampler\n",
        "import numpy as np\n",
        "from sklearn.model_selection import train_test_split\n",
        "import os\n",
        "import tensorflow as tf\n",
        "import keras\n",
        "from tensorflow.keras.models import Sequential\n",
        "from tensorflow.keras.layers import Conv2D, Flatten, Dense, MaxPool2D"
      ]
    },
    {
      "cell_type": "code",
      "execution_count": 4,
      "metadata": {
        "colab": {
          "base_uri": "https://localhost:8080/",
          "height": 256
        },
        "id": "QBQ2C-H5F9pY",
        "outputId": "8402f65e-44ce-4b75-ec0d-a4e76fbd7e8b"
      },
      "outputs": [
        {
          "data": {
            "text/html": [
              "<div>\n",
              "<style scoped>\n",
              "    .dataframe tbody tr th:only-of-type {\n",
              "        vertical-align: middle;\n",
              "    }\n",
              "\n",
              "    .dataframe tbody tr th {\n",
              "        vertical-align: top;\n",
              "    }\n",
              "\n",
              "    .dataframe thead th {\n",
              "        text-align: right;\n",
              "    }\n",
              "</style>\n",
              "<table border=\"1\" class=\"dataframe\">\n",
              "  <thead>\n",
              "    <tr style=\"text-align: right;\">\n",
              "      <th></th>\n",
              "      <th>pixel0000</th>\n",
              "      <th>pixel0001</th>\n",
              "      <th>pixel0002</th>\n",
              "      <th>pixel0003</th>\n",
              "      <th>pixel0004</th>\n",
              "      <th>pixel0005</th>\n",
              "      <th>pixel0006</th>\n",
              "      <th>pixel0007</th>\n",
              "      <th>pixel0008</th>\n",
              "      <th>pixel0009</th>\n",
              "      <th>...</th>\n",
              "      <th>pixel2343</th>\n",
              "      <th>pixel2344</th>\n",
              "      <th>pixel2345</th>\n",
              "      <th>pixel2346</th>\n",
              "      <th>pixel2347</th>\n",
              "      <th>pixel2348</th>\n",
              "      <th>pixel2349</th>\n",
              "      <th>pixel2350</th>\n",
              "      <th>pixel2351</th>\n",
              "      <th>label</th>\n",
              "    </tr>\n",
              "  </thead>\n",
              "  <tbody>\n",
              "    <tr>\n",
              "      <th>0</th>\n",
              "      <td>192</td>\n",
              "      <td>153</td>\n",
              "      <td>193</td>\n",
              "      <td>195</td>\n",
              "      <td>155</td>\n",
              "      <td>192</td>\n",
              "      <td>197</td>\n",
              "      <td>154</td>\n",
              "      <td>185</td>\n",
              "      <td>202</td>\n",
              "      <td>...</td>\n",
              "      <td>173</td>\n",
              "      <td>124</td>\n",
              "      <td>138</td>\n",
              "      <td>183</td>\n",
              "      <td>147</td>\n",
              "      <td>166</td>\n",
              "      <td>185</td>\n",
              "      <td>154</td>\n",
              "      <td>177</td>\n",
              "      <td>2</td>\n",
              "    </tr>\n",
              "    <tr>\n",
              "      <th>1</th>\n",
              "      <td>25</td>\n",
              "      <td>14</td>\n",
              "      <td>30</td>\n",
              "      <td>68</td>\n",
              "      <td>48</td>\n",
              "      <td>75</td>\n",
              "      <td>123</td>\n",
              "      <td>93</td>\n",
              "      <td>126</td>\n",
              "      <td>158</td>\n",
              "      <td>...</td>\n",
              "      <td>60</td>\n",
              "      <td>39</td>\n",
              "      <td>55</td>\n",
              "      <td>25</td>\n",
              "      <td>14</td>\n",
              "      <td>28</td>\n",
              "      <td>25</td>\n",
              "      <td>14</td>\n",
              "      <td>27</td>\n",
              "      <td>2</td>\n",
              "    </tr>\n",
              "    <tr>\n",
              "      <th>2</th>\n",
              "      <td>192</td>\n",
              "      <td>138</td>\n",
              "      <td>153</td>\n",
              "      <td>200</td>\n",
              "      <td>145</td>\n",
              "      <td>163</td>\n",
              "      <td>201</td>\n",
              "      <td>142</td>\n",
              "      <td>160</td>\n",
              "      <td>206</td>\n",
              "      <td>...</td>\n",
              "      <td>167</td>\n",
              "      <td>129</td>\n",
              "      <td>143</td>\n",
              "      <td>159</td>\n",
              "      <td>124</td>\n",
              "      <td>142</td>\n",
              "      <td>136</td>\n",
              "      <td>104</td>\n",
              "      <td>117</td>\n",
              "      <td>2</td>\n",
              "    </tr>\n",
              "    <tr>\n",
              "      <th>3</th>\n",
              "      <td>38</td>\n",
              "      <td>19</td>\n",
              "      <td>30</td>\n",
              "      <td>95</td>\n",
              "      <td>59</td>\n",
              "      <td>72</td>\n",
              "      <td>143</td>\n",
              "      <td>103</td>\n",
              "      <td>119</td>\n",
              "      <td>171</td>\n",
              "      <td>...</td>\n",
              "      <td>44</td>\n",
              "      <td>26</td>\n",
              "      <td>36</td>\n",
              "      <td>25</td>\n",
              "      <td>12</td>\n",
              "      <td>17</td>\n",
              "      <td>25</td>\n",
              "      <td>12</td>\n",
              "      <td>15</td>\n",
              "      <td>2</td>\n",
              "    </tr>\n",
              "    <tr>\n",
              "      <th>4</th>\n",
              "      <td>158</td>\n",
              "      <td>113</td>\n",
              "      <td>139</td>\n",
              "      <td>194</td>\n",
              "      <td>144</td>\n",
              "      <td>174</td>\n",
              "      <td>215</td>\n",
              "      <td>162</td>\n",
              "      <td>191</td>\n",
              "      <td>225</td>\n",
              "      <td>...</td>\n",
              "      <td>209</td>\n",
              "      <td>166</td>\n",
              "      <td>185</td>\n",
              "      <td>172</td>\n",
              "      <td>135</td>\n",
              "      <td>149</td>\n",
              "      <td>109</td>\n",
              "      <td>78</td>\n",
              "      <td>92</td>\n",
              "      <td>2</td>\n",
              "    </tr>\n",
              "  </tbody>\n",
              "</table>\n",
              "<p>5 rows × 2353 columns</p>\n",
              "</div>"
            ],
            "text/plain": [
              "   pixel0000  pixel0001  pixel0002  pixel0003  pixel0004  pixel0005  \\\n",
              "0        192        153        193        195        155        192   \n",
              "1         25         14         30         68         48         75   \n",
              "2        192        138        153        200        145        163   \n",
              "3         38         19         30         95         59         72   \n",
              "4        158        113        139        194        144        174   \n",
              "\n",
              "   pixel0006  pixel0007  pixel0008  pixel0009  ...  pixel2343  pixel2344  \\\n",
              "0        197        154        185        202  ...        173        124   \n",
              "1        123         93        126        158  ...         60         39   \n",
              "2        201        142        160        206  ...        167        129   \n",
              "3        143        103        119        171  ...         44         26   \n",
              "4        215        162        191        225  ...        209        166   \n",
              "\n",
              "   pixel2345  pixel2346  pixel2347  pixel2348  pixel2349  pixel2350  \\\n",
              "0        138        183        147        166        185        154   \n",
              "1         55         25         14         28         25         14   \n",
              "2        143        159        124        142        136        104   \n",
              "3         36         25         12         17         25         12   \n",
              "4        185        172        135        149        109         78   \n",
              "\n",
              "   pixel2351  label  \n",
              "0        177      2  \n",
              "1         27      2  \n",
              "2        117      2  \n",
              "3         15      2  \n",
              "4         92      2  \n",
              "\n",
              "[5 rows x 2353 columns]"
            ]
          },
          "execution_count": 4,
          "metadata": {},
          "output_type": "execute_result"
        }
      ],
      "source": [
        "data = pd.read_csv('/Users/ramkumarmv/Desktop/hmnist_28_28_RGB.csv')\n",
        "data.head()"
      ]
    },
    {
      "cell_type": "code",
      "execution_count": 5,
      "metadata": {
        "colab": {
          "base_uri": "https://localhost:8080/"
        },
        "id": "8kXkDJzTGICG",
        "outputId": "1c1eeb68-b0a3-4fe1-f51c-8f6eeb95f8b9"
      },
      "outputs": [
        {
          "data": {
            "text/plain": [
              "0        2\n",
              "1        2\n",
              "2        2\n",
              "3        2\n",
              "4        2\n",
              "        ..\n",
              "10010    0\n",
              "10011    0\n",
              "10012    0\n",
              "10013    0\n",
              "10014    6\n",
              "Name: label, Length: 10015, dtype: int64"
            ]
          },
          "execution_count": 5,
          "metadata": {},
          "output_type": "execute_result"
        }
      ],
      "source": [
        "y = data['label']\n",
        "x = data.drop(columns = ['label'])\n",
        "y= y.fillna(y.median())\n",
        "y"
      ]
    },
    {
      "cell_type": "code",
      "execution_count": 7,
      "metadata": {
        "colab": {
          "base_uri": "https://localhost:8080/",
          "height": 206
        },
        "id": "O5q-YaMpGQ5A",
        "outputId": "d5f352af-f0da-4e80-d206-ac2bbdae5b62"
      },
      "outputs": [
        {
          "data": {
            "text/html": [
              "<div>\n",
              "<style scoped>\n",
              "    .dataframe tbody tr th:only-of-type {\n",
              "        vertical-align: middle;\n",
              "    }\n",
              "\n",
              "    .dataframe tbody tr th {\n",
              "        vertical-align: top;\n",
              "    }\n",
              "\n",
              "    .dataframe thead th {\n",
              "        text-align: right;\n",
              "    }\n",
              "</style>\n",
              "<table border=\"1\" class=\"dataframe\">\n",
              "  <thead>\n",
              "    <tr style=\"text-align: right;\">\n",
              "      <th></th>\n",
              "      <th>lesion_id</th>\n",
              "      <th>image_id</th>\n",
              "      <th>dx</th>\n",
              "      <th>dx_type</th>\n",
              "      <th>age</th>\n",
              "      <th>sex</th>\n",
              "      <th>localization</th>\n",
              "      <th>dataset</th>\n",
              "    </tr>\n",
              "  </thead>\n",
              "  <tbody>\n",
              "    <tr>\n",
              "      <th>0</th>\n",
              "      <td>HAM_0000118</td>\n",
              "      <td>ISIC_0027419</td>\n",
              "      <td>bkl</td>\n",
              "      <td>histo</td>\n",
              "      <td>80.0</td>\n",
              "      <td>male</td>\n",
              "      <td>scalp</td>\n",
              "      <td>vidir_modern</td>\n",
              "    </tr>\n",
              "    <tr>\n",
              "      <th>1</th>\n",
              "      <td>HAM_0000118</td>\n",
              "      <td>ISIC_0025030</td>\n",
              "      <td>bkl</td>\n",
              "      <td>histo</td>\n",
              "      <td>80.0</td>\n",
              "      <td>male</td>\n",
              "      <td>scalp</td>\n",
              "      <td>vidir_modern</td>\n",
              "    </tr>\n",
              "    <tr>\n",
              "      <th>2</th>\n",
              "      <td>HAM_0002730</td>\n",
              "      <td>ISIC_0026769</td>\n",
              "      <td>bkl</td>\n",
              "      <td>histo</td>\n",
              "      <td>80.0</td>\n",
              "      <td>male</td>\n",
              "      <td>scalp</td>\n",
              "      <td>vidir_modern</td>\n",
              "    </tr>\n",
              "    <tr>\n",
              "      <th>3</th>\n",
              "      <td>HAM_0002730</td>\n",
              "      <td>ISIC_0025661</td>\n",
              "      <td>bkl</td>\n",
              "      <td>histo</td>\n",
              "      <td>80.0</td>\n",
              "      <td>male</td>\n",
              "      <td>scalp</td>\n",
              "      <td>vidir_modern</td>\n",
              "    </tr>\n",
              "    <tr>\n",
              "      <th>4</th>\n",
              "      <td>HAM_0001466</td>\n",
              "      <td>ISIC_0031633</td>\n",
              "      <td>bkl</td>\n",
              "      <td>histo</td>\n",
              "      <td>75.0</td>\n",
              "      <td>male</td>\n",
              "      <td>ear</td>\n",
              "      <td>vidir_modern</td>\n",
              "    </tr>\n",
              "  </tbody>\n",
              "</table>\n",
              "</div>"
            ],
            "text/plain": [
              "     lesion_id      image_id   dx dx_type   age   sex localization  \\\n",
              "0  HAM_0000118  ISIC_0027419  bkl   histo  80.0  male        scalp   \n",
              "1  HAM_0000118  ISIC_0025030  bkl   histo  80.0  male        scalp   \n",
              "2  HAM_0002730  ISIC_0026769  bkl   histo  80.0  male        scalp   \n",
              "3  HAM_0002730  ISIC_0025661  bkl   histo  80.0  male        scalp   \n",
              "4  HAM_0001466  ISIC_0031633  bkl   histo  75.0  male          ear   \n",
              "\n",
              "        dataset  \n",
              "0  vidir_modern  \n",
              "1  vidir_modern  \n",
              "2  vidir_modern  \n",
              "3  vidir_modern  \n",
              "4  vidir_modern  "
            ]
          },
          "execution_count": 7,
          "metadata": {},
          "output_type": "execute_result"
        }
      ],
      "source": [
        "tabular_data = pd.read_csv('/Users/ramkumarmv/Desktop/dataverse_files/HAM10000_metadata.csv')\n",
        "tabular_data.head()"
      ]
    },
    {
      "cell_type": "code",
      "execution_count": 8,
      "metadata": {
        "id": "LgyA3uanGgQl"
      },
      "outputs": [],
      "source": [
        "classes = {4: ('nv', ' melanocytic nevi'), 6: ('mel', 'melanoma'), 2 :('bkl', 'benign keratosis-like lesions'), 1:('bcc' , ' basal cell carcinoma'), 5: ('vasc', ' pyogenic granulomas and hemorrhage'), 0: ('akiec', 'Actinic keratoses and intraepithelial carcinomae'),  3: ('df', 'dermatofibroma')}"
      ]
    },
    {
      "cell_type": "code",
      "execution_count": 9,
      "metadata": {
        "colab": {
          "base_uri": "https://localhost:8080/",
          "height": 1000
        },
        "id": "TDLj4ZKcGjWa",
        "outputId": "34d0c513-5903-40e4-abf2-ef04b624fe92"
      },
      "outputs": [
        {
          "data": {
            "text/plain": [
              "(array([ 0,  1,  2,  3,  4,  5,  6,  7,  8,  9, 10, 11, 12, 13, 14]),\n",
              " [Text(0, 0, 'back'),\n",
              "  Text(1, 0, 'lower extremity'),\n",
              "  Text(2, 0, 'trunk'),\n",
              "  Text(3, 0, 'upper extremity'),\n",
              "  Text(4, 0, 'abdomen'),\n",
              "  Text(5, 0, 'face'),\n",
              "  Text(6, 0, 'chest'),\n",
              "  Text(7, 0, 'foot'),\n",
              "  Text(8, 0, 'scalp'),\n",
              "  Text(9, 0, 'neck'),\n",
              "  Text(10, 0, 'unknown'),\n",
              "  Text(11, 0, 'hand'),\n",
              "  Text(12, 0, 'genital'),\n",
              "  Text(13, 0, 'ear'),\n",
              "  Text(14, 0, 'acral')])"
            ]
          },
          "execution_count": 9,
          "metadata": {},
          "output_type": "execute_result"
        },
        {
          "data": {
            "image/png": "[encoded data removed]",
            "text/plain": [
              "<Figure size 1200x1200 with 1 Axes>"
            ]
          },
          "metadata": {},
          "output_type": "display_data"
        }
      ],
      "source": [
        "value = tabular_data[['localization', 'sex']].value_counts().to_frame()\n",
        "value.reset_index(level=[1,0 ], inplace=True)\n",
        "temp = value.rename(columns = {'localization':'location', 0: 'count'})\n",
        "\n",
        "bar, ax = plt.subplots(figsize = (12, 12))\n",
        "sns.barplot(x = 'location',  y='count', hue = 'sex', data = temp)\n",
        "plt.title('Location of disease over Gender', size = 16)\n",
        "plt.xlabel('Disease', size=12)\n",
        "plt.ylabel('Frequency/Count', size=12)\n",
        "plt.xticks(rotation = 90)"
      ]
    },
    {
      "cell_type": "code",
      "execution_count": 10,
      "metadata": {
        "id": "UdE8-lIVGlou"
      },
      "outputs": [],
      "source": [
        "oversample = RandomOverSampler()\n",
        "x,y  = oversample.fit_resample(x,y)"
      ]
    },
    {
      "cell_type": "code",
      "execution_count": 11,
      "metadata": {
        "colab": {
          "base_uri": "https://localhost:8080/"
        },
        "id": "QRodppHlG0cb",
        "outputId": "b691e3f8-68da-4fa4-ef44-7222670ef511"
      },
      "outputs": [
        {
          "name": "stdout",
          "output_type": "stream",
          "text": [
            "Shape of X : (46935, 28, 28, 3)\n"
          ]
        }
      ],
      "source": [
        "x = np.array(x).reshape(-1,28,28,3)\n",
        "print('Shape of X :',x.shape)"
      ]
    },
    {
      "cell_type": "code",
      "execution_count": 12,
      "metadata": {
        "id": "0aDIYQPQG2dK"
      },
      "outputs": [],
      "source": [
        "x = (x-np.mean(x))/np.std(x)\n",
        "X_train, X_test, Y_train, Y_test = train_test_split(x,y, test_size=0.2, random_state=1)"
      ]
    },
    {
      "cell_type": "code",
      "execution_count": 21,
      "metadata": {
        "colab": {
          "base_uri": "https://localhost:8080/"
        },
        "id": "bkWMkAOtM2-B",
        "outputId": "2bfa1d40-e1f0-49c9-e922-541d010d0bef"
      },
      "outputs": [],
      "source": [
        "\"\"\"\n",
        "model = Sequential()\n",
        "model.add(Conv2D(16, kernel_size = (3,3), input_shape = (28, 28, 3), activation = 'relu', padding = 'same'))\n",
        "model.add(Conv2D(32, kernel_size = (3,3), activation = 'relu'))\n",
        "model.add(MaxPool2D(pool_size = (2,2)))\n",
        "model.add(Conv2D(32, kernel_size = (3,3), activation = 'relu', padding = 'same'))\n",
        "model.add(Conv2D(64, kernel_size = (3,3), activation = 'relu'))\n",
        "model.add(MaxPool2D(pool_size = (2,2), padding = 'same'))\n",
        "model.add(Flatten())\n",
        "model.add(Dense(64, activation='relu'))\n",
        "model.add(Dense(32, activation='relu'))\n",
        "model.add(Dense(7, activation='softmax'))\n",
        "model.summary()\n",
        "\"\"\" \n",
        "\n",
        "model = keras.models.Sequential([\n",
        "    keras.layers.Conv2D(filters=96, kernel_size=(11, 11), strides=(4, 4), activation='relu', input_shape=(28, 28, 3)),\n",
        "    keras.layers.BatchNormalization(),\n",
        "    keras.layers.MaxPool2D(pool_size=(2, 2), strides=(2, 2)),\n",
        "    keras.layers.Conv2D(filters=256, kernel_size=(5, 5), strides=(1, 1), activation='relu', padding=\"same\"),\n",
        "    keras.layers.BatchNormalization(),\n",
        "    keras.layers.MaxPool2D(pool_size=(2, 2), strides=(2, 2)),\n",
        "    keras.layers.Conv2D(filters=384, kernel_size=(3, 3), strides=(1, 1), activation='relu', padding=\"same\"),\n",
        "    keras.layers.BatchNormalization(),\n",
        "    keras.layers.Conv2D(filters=384, kernel_size=(3, 3), strides=(1, 1), activation='relu', padding=\"same\"),\n",
        "    keras.layers.BatchNormalization(),\n",
        "    keras.layers.Conv2D(filters=256, kernel_size=(3, 3), strides=(1, 1), activation='relu', padding=\"same\"),\n",
        "    keras.layers.BatchNormalization(),\n",
        "    # Remove the last MaxPooling layer\n",
        "    keras.layers.Flatten(),\n",
        "    keras.layers.Dense(4096, activation='relu'),\n",
        "    keras.layers.Dropout(0.5),\n",
        "    keras.layers.Dense(4096, activation='relu'),\n",
        "    keras.layers.Dropout(0.5),\n",
        "    keras.layers.Dense(10, activation='softmax')\n",
        "])\n"
      ]
    },
    {
      "cell_type": "code",
      "execution_count": 16,
      "metadata": {
        "id": "tZhbruFzM5p0"
      },
      "outputs": [],
      "source": [
        "callback = tf.keras.callbacks.ModelCheckpoint(filepath='best_model.h5',\n",
        "                                                  monitor='val_acc', mode='max',\n",
        "                                                 verbose=1)\n"
      ]
    },
    {
      "cell_type": "code",
      "execution_count": 22,
      "metadata": {
        "colab": {
          "base_uri": "https://localhost:8080/"
        },
        "id": "nqHtuDsvM8W1",
        "outputId": "a62f84d2-3690-4f3b-f15c-4216919f47a3"
      },
      "outputs": [
        {
          "name": "stdout",
          "output_type": "stream",
          "text": [
            "Epoch 1/20\n",
            "235/235 [==============================] - ETA: 0s - loss: 1.0534 - accuracy: 0.6203\n",
            "Epoch 1: saving model to best_model.h5\n",
            "235/235 [==============================] - 65s 274ms/step - loss: 1.0534 - accuracy: 0.6203 - val_loss: 1.0147 - val_accuracy: 0.6535\n",
            "Epoch 2/20\n"
          ]
        },
        {
          "name": "stderr",
          "output_type": "stream",
          "text": [
            "/Library/Frameworks/Python.framework/Versions/3.9/lib/python3.9/site-packages/keras/src/engine/training.py:3000: UserWarning: You are saving your model as an HDF5 file via `model.save()`. This file format is considered legacy. We recommend using instead the native Keras format, e.g. `model.save('my_model.keras')`.\n",
            "  saving_api.save_model(\n"
          ]
        },
        {
          "name": "stdout",
          "output_type": "stream",
          "text": [
            "235/235 [==============================] - ETA: 0s - loss: 0.5971 - accuracy: 0.7874\n",
            "Epoch 2: saving model to best_model.h5\n",
            "235/235 [==============================] - 64s 273ms/step - loss: 0.5971 - accuracy: 0.7874 - val_loss: 0.7054 - val_accuracy: 0.7581\n",
            "Epoch 3/20\n",
            "235/235 [==============================] - ETA: 0s - loss: 0.4643 - accuracy: 0.8363\n",
            "Epoch 3: saving model to best_model.h5\n",
            "235/235 [==============================] - 65s 277ms/step - loss: 0.4643 - accuracy: 0.8363 - val_loss: 0.4363 - val_accuracy: 0.8466\n",
            "Epoch 4/20\n",
            "235/235 [==============================] - ETA: 0s - loss: 0.3702 - accuracy: 0.8686\n",
            "Epoch 4: saving model to best_model.h5\n",
            "235/235 [==============================] - 64s 273ms/step - loss: 0.3702 - accuracy: 0.8686 - val_loss: 0.3895 - val_accuracy: 0.8666\n",
            "Epoch 5/20\n",
            "235/235 [==============================] - ETA: 0s - loss: 0.3330 - accuracy: 0.8840\n",
            "Epoch 5: saving model to best_model.h5\n",
            "235/235 [==============================] - 64s 274ms/step - loss: 0.3330 - accuracy: 0.8840 - val_loss: 0.4299 - val_accuracy: 0.8487\n",
            "Epoch 6/20\n",
            "235/235 [==============================] - ETA: 0s - loss: 0.2804 - accuracy: 0.9004\n",
            "Epoch 6: saving model to best_model.h5\n",
            "235/235 [==============================] - 64s 272ms/step - loss: 0.2804 - accuracy: 0.9004 - val_loss: 0.3824 - val_accuracy: 0.8555\n",
            "Epoch 7/20\n",
            "235/235 [==============================] - ETA: 0s - loss: 0.2692 - accuracy: 0.9079\n",
            "Epoch 7: saving model to best_model.h5\n",
            "235/235 [==============================] - 64s 272ms/step - loss: 0.2692 - accuracy: 0.9079 - val_loss: 0.5841 - val_accuracy: 0.8559\n",
            "Epoch 8/20\n",
            "235/235 [==============================] - ETA: 0s - loss: 0.2313 - accuracy: 0.9188\n",
            "Epoch 8: saving model to best_model.h5\n",
            "235/235 [==============================] - 67s 283ms/step - loss: 0.2313 - accuracy: 0.9188 - val_loss: 0.3157 - val_accuracy: 0.8826\n",
            "Epoch 9/20\n",
            "235/235 [==============================] - ETA: 0s - loss: 0.2213 - accuracy: 0.9241\n",
            "Epoch 9: saving model to best_model.h5\n",
            "235/235 [==============================] - 66s 281ms/step - loss: 0.2213 - accuracy: 0.9241 - val_loss: 0.2869 - val_accuracy: 0.8997\n",
            "Epoch 10/20\n",
            "235/235 [==============================] - ETA: 0s - loss: 0.1965 - accuracy: 0.9320\n",
            "Epoch 10: saving model to best_model.h5\n",
            "235/235 [==============================] - 66s 282ms/step - loss: 0.1965 - accuracy: 0.9320 - val_loss: 0.2258 - val_accuracy: 0.9221\n",
            "Epoch 11/20\n",
            "235/235 [==============================] - ETA: 0s - loss: 0.1964 - accuracy: 0.9324\n",
            "Epoch 11: saving model to best_model.h5\n",
            "235/235 [==============================] - 67s 285ms/step - loss: 0.1964 - accuracy: 0.9324 - val_loss: 0.2978 - val_accuracy: 0.9076\n",
            "Epoch 12/20\n",
            "235/235 [==============================] - ETA: 0s - loss: 0.1679 - accuracy: 0.9423\n",
            "Epoch 12: saving model to best_model.h5\n",
            "235/235 [==============================] - 66s 280ms/step - loss: 0.1679 - accuracy: 0.9423 - val_loss: 0.2486 - val_accuracy: 0.9160\n",
            "Epoch 13/20\n",
            "235/235 [==============================] - ETA: 0s - loss: 0.1684 - accuracy: 0.9417\n",
            "Epoch 13: saving model to best_model.h5\n",
            "235/235 [==============================] - 66s 282ms/step - loss: 0.1684 - accuracy: 0.9417 - val_loss: 0.2668 - val_accuracy: 0.9120\n",
            "Epoch 14/20\n",
            "235/235 [==============================] - ETA: 0s - loss: 0.1781 - accuracy: 0.9427\n",
            "Epoch 14: saving model to best_model.h5\n",
            "235/235 [==============================] - 65s 278ms/step - loss: 0.1781 - accuracy: 0.9427 - val_loss: 0.2220 - val_accuracy: 0.9318\n",
            "Epoch 15/20\n",
            "235/235 [==============================] - ETA: 0s - loss: 0.1278 - accuracy: 0.9555\n",
            "Epoch 15: saving model to best_model.h5\n",
            "235/235 [==============================] - 64s 274ms/step - loss: 0.1278 - accuracy: 0.9555 - val_loss: 0.2061 - val_accuracy: 0.9403\n",
            "Epoch 16/20\n",
            "235/235 [==============================] - ETA: 0s - loss: 0.1086 - accuracy: 0.9628\n",
            "Epoch 16: saving model to best_model.h5\n",
            "235/235 [==============================] - 65s 278ms/step - loss: 0.1086 - accuracy: 0.9628 - val_loss: 0.2785 - val_accuracy: 0.9170\n",
            "Epoch 17/20\n",
            "235/235 [==============================] - ETA: 0s - loss: 0.1329 - accuracy: 0.9576\n",
            "Epoch 17: saving model to best_model.h5\n",
            "235/235 [==============================] - 65s 276ms/step - loss: 0.1329 - accuracy: 0.9576 - val_loss: 0.2255 - val_accuracy: 0.9344\n",
            "Epoch 18/20\n",
            "235/235 [==============================] - ETA: 0s - loss: 0.1134 - accuracy: 0.9624\n",
            "Epoch 18: saving model to best_model.h5\n",
            "235/235 [==============================] - 64s 274ms/step - loss: 0.1134 - accuracy: 0.9624 - val_loss: 0.1529 - val_accuracy: 0.9510\n",
            "Epoch 19/20\n",
            "235/235 [==============================] - ETA: 0s - loss: 0.1055 - accuracy: 0.9665\n",
            "Epoch 19: saving model to best_model.h5\n",
            "235/235 [==============================] - 66s 281ms/step - loss: 0.1055 - accuracy: 0.9665 - val_loss: 0.1839 - val_accuracy: 0.9445\n",
            "Epoch 20/20\n",
            "235/235 [==============================] - ETA: 0s - loss: 0.1690 - accuracy: 0.9528\n",
            "Epoch 20: saving model to best_model.h5\n",
            "235/235 [==============================] - 64s 273ms/step - loss: 0.1690 - accuracy: 0.9528 - val_loss: 0.2094 - val_accuracy: 0.9286\n"
          ]
        }
      ],
      "source": [
        "model.compile(loss = 'sparse_categorical_crossentropy',\n",
        "             optimizer = 'adam',\n",
        "              metrics = ['accuracy'])\n",
        "history = model.fit(X_train,\n",
        "                    Y_train,\n",
        "                    validation_split=0.2,\n",
        "                    batch_size = 128,\n",
        "                    epochs = 20,\n",
        "                    callbacks=[callback])"
      ]
    },
    {
      "cell_type": "code",
      "execution_count": 23,
      "metadata": {
        "colab": {
          "base_uri": "https://localhost:8080/"
        },
        "id": "qTWX-_sdNA8-",
        "outputId": "95e1601d-1c6c-4531-e07c-ac3cc3ce2537"
      },
      "outputs": [
        {
          "name": "stdout",
          "output_type": "stream",
          "text": [
            "294/294 [==============================] - 3s 11ms/step - loss: 0.2253 - accuracy: 0.9256\n",
            "294/294 [==============================] - 3s 10ms/step\n"
          ]
        }
      ],
      "source": [
        "model.evaluate(X_test, Y_test, verbose=1)\n",
        "pred=model.predict(X_test)\n",
        "categories=['Melanocytic nevi','Melanoma','Benign keratosis-like lesions','Basal cell carcinoma','Actinic keratoses','Vascular lesions','Dermatofibroma']"
      ]
    },
    {
      "cell_type": "code",
      "execution_count": 24,
      "metadata": {
        "colab": {
          "base_uri": "https://localhost:8080/",
          "height": 927
        },
        "id": "EWL5mehMfz3L",
        "outputId": "3bf3da5e-4f50-41ca-bad6-10bb5ca3f00f"
      },
      "outputs": [
        {
          "name": "stderr",
          "output_type": "stream",
          "text": [
            "Clipping input data to the valid range for imshow with RGB data ([0..1] for floats or [0..255] for integers).\n"
          ]
        },
        {
          "name": "stderr",
          "output_type": "stream",
          "text": [
            "Clipping input data to the valid range for imshow with RGB data ([0..1] for floats or [0..255] for integers).\n",
            "Clipping input data to the valid range for imshow with RGB data ([0..1] for floats or [0..255] for integers).\n",
            "Clipping input data to the valid range for imshow with RGB data ([0..1] for floats or [0..255] for integers).\n",
            "Clipping input data to the valid range for imshow with RGB data ([0..1] for floats or [0..255] for integers).\n",
            "Clipping input data to the valid range for imshow with RGB data ([0..1] for floats or [0..255] for integers).\n",
            "Clipping input data to the valid range for imshow with RGB data ([0..1] for floats or [0..255] for integers).\n",
            "Clipping input data to the valid range for imshow with RGB data ([0..1] for floats or [0..255] for integers).\n",
            "Clipping input data to the valid range for imshow with RGB data ([0..1] for floats or [0..255] for integers).\n"
          ]
        },
        {
          "data": {
            "image/png": "[encoded data removed]",
            "text/plain": [
              "<Figure size 900x900 with 9 Axes>"
            ]
          },
          "metadata": {},
          "output_type": "display_data"
        }
      ],
      "source": [
        "\n",
        "# Assuming 'pred' contains the predicted class probabilities for each image in X_test\n",
        "\n",
        "# Create a figure with subplots to display the predicted images\n",
        "plt.figure(figsize=(9, 9))\n",
        "for i in range(9):\n",
        "    plt.subplot(3, 3, i + 1)\n",
        "\n",
        "    # Display the image (assuming it's already normalized)\n",
        "    plt.imshow(X_test[i])\n",
        "\n",
        "    # Get the predicted class index (argmax)\n",
        "    predicted_class_index = np.argmax(pred[i])\n",
        "\n",
        "    # Get the predicted class label from 'categories'\n",
        "    predicted_class_label = categories[predicted_class_index]\n",
        "\n",
        "    # Set the xlabel with the predicted label\n",
        "    plt.xlabel(\"Predicted: \" + predicted_class_label)\n",
        "\n",
        "    # Remove x-axis ticks\n",
        "    plt.xticks([])\n",
        "\n",
        "# Display the figure with subplots\n",
        "plt.show()\n"
      ]
    }
  ],
  "metadata": {
    "accelerator": "GPU",
    "colab": {
      "gpuType": "T4",
      "provenance": []
    },
    "kernelspec": {
      "display_name": "Python 3",
      "name": "python3"
    },
    "language_info": {
      "codemirror_mode": {
        "name": "ipython",
        "version": 3
      },
      "file_extension": ".py",
      "mimetype": "text/x-python",
      "name": "python",
      "nbconvert_exporter": "python",
      "pygments_lexer": "ipython3",
      "version": "3.9.10"
    }
  },
  "nbformat": 4,
  "nbformat_minor": 0
}
